{
 "cells": [
  {
   "cell_type": "markdown",
   "metadata": {},
   "source": [
    "<center>\n",
    "<img src=\"../../img/ods_stickers.jpg\">\n",
    "## Открытый курс по машинному обучению. Сессия № 3\n",
    "</center>\n",
    "Авторы материала: аспирант Мехмата МГУ Евгений Колмаков, программист-исследователь Mail.ru Group Юрий Кашницкий. Материал распространяется на условиях лицензии [Creative Commons CC BY-NC-SA 4.0](https://creativecommons.org/licenses/by-nc-sa/4.0/). Можно использовать в любых целях (редактировать, поправлять и брать за основу), кроме коммерческих, но с обязательным упоминанием автора материала."
   ]
  },
  {
   "cell_type": "markdown",
   "metadata": {},
   "source": [
    "# <center>Домашнее задание № 3. Опциональная часть \n",
    "## <center> Реализация алгоритма построения дерева решений"
   ]
  },
  {
   "cell_type": "code",
   "execution_count": 1,
   "metadata": {},
   "outputs": [],
   "source": [
    "import numpy as np\n",
    "from matplotlib import pyplot as plt\n",
    "%matplotlib inline\n",
    "from sklearn.base import BaseEstimator\n",
    "from sklearn.datasets import make_classification, make_regression, load_digits, load_boston\n",
    "from sklearn.model_selection import train_test_split, GridSearchCV\n",
    "from sklearn.metrics import accuracy_score, mean_squared_error"
   ]
  },
  {
   "cell_type": "markdown",
   "metadata": {
    "collapsed": true
   },
   "source": [
    "**Необходимо реализовать класс `DecisionTree`**\n",
    "\n",
    "**Спецификация:**\n",
    "- класс наследуется от `sklearn.BaseEstimator`;\n",
    "- конструктор содержит следующие параметры: \n",
    "    `max_depth` - максимальная глубина дерева (по умолчанию - `numpy.inf`); \n",
    "    `min_samples_split` - минимальное число объектов в вершине, при котором происходит её разбиение (по умолчанию - 2); \n",
    "    `criterion` - критерий разбиения (для классификации - 'gini' или 'entropy', для регрессии - 'variance' или 'mad_median'; \n",
    "    по умолчанию - 'gini');\n",
    "    \n",
    "    Функционал, значение которого максимизируется для поиска оптимального разбиения в данной вершине имеет вид\n",
    "    $$Q(X, j, t) = F(X) - \\dfrac{|X_l|}{|X|} F(X_l) - \\dfrac{|X_r|}{|X|} F(X_r),$$\n",
    "    где $X$ - выборка, находящаяся в текущей вершине, $X_l$ и $X_r$ - разбиение выборки $X$ на две части \n",
    "    по предикату $[x_j < t]$, а $F(X)$ -критерий разбиения.\n",
    "    \n",
    "    Для классификации: пусть $p_i$ - доля объектов $i$-го класса в выборке $X$.\n",
    "    \n",
    "    'gini': Неопределенность Джини $F(X) = 1 -\\sum_{i = 1}^K p_i^2$.\n",
    "    \n",
    "    'entropy': Энтропия $F(X) = -\\sum_{i = 1}^K p_i \\log_2(p_i)$.\n",
    "    \n",
    "    Для регрессии: $y_j = y(x_j)$ - ответ на объекте $x_j$, $y = (y_1, \\dots, y_{|X|})$ - вектор ответов.\n",
    "    \n",
    "    'variance': Дисперсия (среднее квадратичное отклонение от среднего) $F(X) = \\dfrac{1}{|X|} \\sum_{x_j \\in X}(y_j - \\dfrac{1}{|X|}\\sum_{x_i \\in X}y_i)^2$\n",
    "    \n",
    "    'mad_median': Среднее отклонение от медианы $F(X) = \\dfrac{1}{|X|} \\sum_{x_j \\in X}|y_j - \\mathrm{med}(y)|$\n",
    "    \n",
    "- класс имеет методы `fit`, `predict` и `predict_proba`;\n",
    "- метод `fit` принимает матрицу объектов `X` и вектор ответов `y` (объекты `numpy.ndarray`) и возвращает экземпляр класса\n",
    "    `DecisionTree`, представляющий собой решающее дерево, обученное по выборке `(X, y)` с учётом заданных в конструкторе параметров; \n",
    "- метод `predict_proba` принимает матрицу объектов `X` и возвращает матрицу `P` размера `X.shape[0] x K`, где `K` - число классов, такую что $p_{ij}$ есть вероятность принадлежности объекта, заданного $i$-ой строкой матрицы X к классу $j \\in \\{1, \\dots, K\\}$.\n",
    "- метод `predict` принимает матрицу объектов и возвращает вектор предсказанных ответов; в случае классификации - это \n",
    "    наиболее многочисленный класс в листе, в который попал объект, а в случае регрессии - среднее значение ответов по \n",
    "    всем объектам этого листа;"
   ]
  },
  {
   "cell_type": "code",
   "execution_count": 2,
   "metadata": {},
   "outputs": [],
   "source": [
    "class DecisionTree(BaseEstimator):\n",
    "\n",
    "    def __init__(self, max_depth=np.inf, min_samples_split=2,\n",
    "                 criterion='gini', debug=False):\n",
    "        self.max_depth = max_depth\n",
    "        self.min_samples_split = min_samples_split\n",
    "        self.criterion = criterion\n",
    "        self.criterions = {'gini': self._gini,\n",
    "                           'entropy': self._entropy,\n",
    "                           'variance': self._variance,\n",
    "                           'mad_median': self._mad_median}\n",
    "        self.type_task = 'class' if criterion == 'gini' or criterion == 'entropy' else 'reg'\n",
    "        self.fun = self.criterions[self.criterion]\n",
    "        self.uniq = None\n",
    "        self.debug = debug\n",
    "        self.tree = {}\n",
    "\n",
    "    def fit(self, X, y):\n",
    "        self.uniq = np.sort(np.unique(y))\n",
    "        self.create_tree(X, y, self.tree, 0)\n",
    "        return self\n",
    "\n",
    "    def create_tree(self, X, y, link, depth):\n",
    "        y_shape = y.shape[0]\n",
    "        count_feature = X.shape[1]\n",
    "        s0 = self.fun(y)\n",
    "        if s0 == 0 or y_shape <= self.min_samples_split or depth == self.max_depth:\n",
    "            if self.type_task == 'class':\n",
    "                link['class'] = [round(np.int8(y == u).mean(), 3) for u in self.uniq]\n",
    "            else:\n",
    "                link['reg'] = y.mean()\n",
    "        else:\n",
    "            max_delta_s = 0\n",
    "            max_feature = None\n",
    "            max_num_feature = -1\n",
    "            k = 0\n",
    "            while k < count_feature:\n",
    "                X = np.hstack((X, y.reshape((y_shape, 1))))\n",
    "                X = np.array(sorted(X, key=lambda obj: obj[k]))\n",
    "                X, y = X[:, :-1], X[:, -1]\n",
    "                uniq_x = np.unique(X[:, k])\n",
    "                for num_value, value in enumerate(uniq_x):\n",
    "                    if y[num_value] == y[num_value - 1]:\n",
    "                        continue\n",
    "                    s = self.Q(X, y, y_shape, k, value)\n",
    "                    if s is not None:\n",
    "                        delta_s = s0 - s\n",
    "                        if delta_s >= max_delta_s:\n",
    "                            max_feature = value\n",
    "                            max_num_feature = k\n",
    "                            max_delta_s = delta_s\n",
    "                k += 1\n",
    "            link[(max_num_feature, max_feature)] = [{}, {}]\n",
    "            self.create_tree(X[X[:, max_num_feature] < max_feature],\n",
    "                             y[X[:, max_num_feature] < max_feature],\n",
    "                             link[(max_num_feature, max_feature)][0], depth + 1)\n",
    "            self.create_tree(X[X[:, max_num_feature] >= max_feature],\n",
    "                             y[X[:, max_num_feature] >= max_feature],\n",
    "                             link[(max_num_feature, max_feature)][1], depth + 1)\n",
    "\n",
    "    def Q(self, X, y, y_shape, i, t):\n",
    "        left = y[X[:, i] < t]\n",
    "        right = y[X[:, i] >= t]\n",
    "        if left.size and right.size:\n",
    "            return left.shape[0] * self.fun(left) / y_shape + \\\n",
    "                   right.shape[0] * self.fun(right) / y_shape\n",
    "        return None\n",
    "\n",
    "    def predict(self, X):\n",
    "        answer = []\n",
    "        for x in X:\n",
    "            link = self.tree\n",
    "            key = list(link.keys())[0]\n",
    "            while key != self.type_task:\n",
    "                enum, feature = key\n",
    "                if x[enum] < feature:\n",
    "                    link = link[key][0]\n",
    "                else:\n",
    "                    link = link[key][1]\n",
    "                key = list(link.keys())[0]\n",
    "            if self.type_task == 'class':\n",
    "                answer.append(self.uniq[link['class'].index(max(link['class']))])\n",
    "            else:\n",
    "                answer.append(link['reg'])\n",
    "        return np.array(answer)\n",
    "\n",
    "    def predict_proba(self, X):\n",
    "        answer = []\n",
    "        for x in X:\n",
    "            link = self.tree\n",
    "            key = list(link.keys())[0]\n",
    "            while key != self.type_task:\n",
    "                enum, feature = key\n",
    "                if x[enum] < feature:\n",
    "                    link = link[key][0]\n",
    "                else:\n",
    "                    link = link[key][1]\n",
    "                key = list(link.keys())[0]\n",
    "            answer.append(link[self.type_task])\n",
    "        return np.array(answer)\n",
    "\n",
    "    def _entropy(self, y):\n",
    "        s = 0\n",
    "        for u in np.unique(y):\n",
    "            p_i = np.int8(y == u).mean()\n",
    "            s += p_i * np.log2(p_i)\n",
    "        return -s\n",
    "\n",
    "    def _gini(self, y):\n",
    "        s = 0\n",
    "        for u in np.unique(y):\n",
    "            p_i = np.int8(y == u).mean()\n",
    "            s += p_i ** 2\n",
    "        return 1 - s\n",
    "\n",
    "    @staticmethod\n",
    "    def _variance(y):\n",
    "        return np.var(y)\n",
    "\n",
    "    @staticmethod\n",
    "    def _mad_median(y):\n",
    "        return np.mean(np.abs(y - np.median(y)))"
   ]
  },
  {
   "cell_type": "markdown",
   "metadata": {},
   "source": [
    "## Тестирование реализованного алгоритма"
   ]
  },
  {
   "cell_type": "markdown",
   "metadata": {},
   "source": [
    "### Классификация"
   ]
  },
  {
   "cell_type": "markdown",
   "metadata": {},
   "source": [
    "С помощью метода `load_digits` загрузите датасет `digits`. Разделите выборку на обучающую и тестовую с помощью метода `train_test_split`, используйте значения параметров `test_size=0.2`, `random_state=17`. Попробуйте обучить неглубокие решающие деревья и убедитесь, что критерии gini и entropy дают разные результаты."
   ]
  },
  {
   "cell_type": "code",
   "execution_count": 3,
   "metadata": {},
   "outputs": [
    {
     "name": "stdout",
     "output_type": "stream",
     "text": [
      "0.669444444444 0.730555555556\n"
     ]
    }
   ],
   "source": [
    "# Ваш код здесь\n",
    "X, y = load_digits(return_X_y=True)\n",
    "X_train, X_test, y_train, y_test = train_test_split(X, y, test_size=0.2, random_state=17)\n",
    "acc_gini = accuracy_score(DecisionTree(max_depth=5).fit(X_train, y_train).predict(X_test), y_test)\n",
    "acc_entropy = accuracy_score(DecisionTree(max_depth=5, criterion='entropy').fit(X_train, y_train).predict(X_test), y_test)\n",
    "print(acc_gini, acc_entropy)\n"
   ]
  },
  {
   "cell_type": "code",
   "execution_count": 4,
   "metadata": {},
   "outputs": [
    {
     "name": "stdout",
     "output_type": "stream",
     "text": [
      "CPU times: user 7.88 s, sys: 4.05 ms, total: 7.89 s\n",
      "Wall time: 7.89 s\n"
     ]
    },
    {
     "data": {
      "text/plain": [
       "DecisionTree(criterion='gini', debug=False, max_depth=6, min_samples_split=2)"
      ]
     },
     "execution_count": 4,
     "metadata": {},
     "output_type": "execute_result"
    }
   ],
   "source": [
    "%%time\n",
    "DecisionTree(criterion='gini', max_depth=6).fit(X_train, y_train)"
   ]
  },
  {
   "cell_type": "markdown",
   "metadata": {},
   "source": [
    "С помощью 5-кратной кросс-валидации (`GridSearchCV`) подберите оптимальное значение параметров `max_depth` и `criterion`. Для параметра `max_depth` используйте диапазон значений - range(3, 11), а для criterion - {'gini', 'entropy'}. Критерий качества `scoring`='accuracy'."
   ]
  },
  {
   "cell_type": "code",
   "execution_count": 5,
   "metadata": {},
   "outputs": [
    {
     "name": "stdout",
     "output_type": "stream",
     "text": [
      "CPU times: user 11min 24s, sys: 96.2 ms, total: 11min 24s\n",
      "Wall time: 11min 24s\n"
     ]
    }
   ],
   "source": [
    "%%time\n",
    "tree_grid_entropy = GridSearchCV(DecisionTree(criterion='entropy'), \n",
    "                                 cv=5, \n",
    "                                 param_grid={'max_depth': list(range(3, 11))}, \n",
    "                                 scoring='accuracy').fit(X_train, y_train)\n",
    "\n",
    "tree_grid_gini = GridSearchCV(DecisionTree(criterion='gini'), \n",
    "                              cv=5, \n",
    "                              param_grid={'max_depth': list(range(3, 11))}, \n",
    "                              scoring='accuracy').fit(X_train, y_train)\n"
   ]
  },
  {
   "cell_type": "code",
   "execution_count": 9,
   "metadata": {},
   "outputs": [
    {
     "name": "stdout",
     "output_type": "stream",
     "text": [
      "CPU times: user 5min 10s, sys: 92 ms, total: 5min 10s\n",
      "Wall time: 5min 10s\n"
     ]
    }
   ],
   "source": [
    "%%time\n",
    "tree_grid_classif = GridSearchCV(DecisionTree(), \n",
    "                                 cv=5, \n",
    "                                 param_grid={'max_depth': list(range(3, 11)), \n",
    "                                             'criterion': ['gini', 'entropy']}, \n",
    "                                 scoring='accuracy').fit(X_train, y_train)"
   ]
  },
  {
   "cell_type": "code",
   "execution_count": 8,
   "metadata": {},
   "outputs": [
    {
     "name": "stdout",
     "output_type": "stream",
     "text": [
      "0.81906750174 {'max_depth': 10}\n",
      "0.807933194154 {'max_depth': 9}\n"
     ]
    }
   ],
   "source": [
    "print(tree_grid_entropy.best_score_, tree_grid_entropy.best_params_)\n",
    "print(tree_grid_gini.best_score_, tree_grid_gini.best_params_)"
   ]
  },
  {
   "cell_type": "markdown",
   "metadata": {},
   "source": [
    "Постройте графики средних значений критерия качества `accuracy` для критериев `gini` и `entropy` в зависимости от `max_depth`."
   ]
  },
  {
   "cell_type": "code",
   "execution_count": 6,
   "metadata": {},
   "outputs": [
    {
     "data": {
      "text/plain": [
       "[<matplotlib.lines.Line2D at 0x7f6d055a2a90>]"
      ]
     },
     "execution_count": 6,
     "metadata": {},
     "output_type": "execute_result"
    },
    {
     "data": {
      "image/png": "[encoded data removed]",
      "text/plain": [
       "<matplotlib.figure.Figure at 0x7f6d055a2eb8>"
      ]
     },
     "metadata": {},
     "output_type": "display_data"
    }
   ],
   "source": [
    "# Ваш код здесь\n",
    "plt.plot(list(range(3, 11)), tree_grid_entropy.cv_results_['mean_test_score'], 'r')\n",
    "plt.plot(list(range(3, 11)), tree_grid_gini.cv_results_['mean_test_score'], 'b')"
   ]
  },
  {
   "cell_type": "code",
   "execution_count": 10,
   "metadata": {},
   "outputs": [
    {
     "data": {
      "text/plain": [
       "[<matplotlib.lines.Line2D at 0x7fb8ac9a79e8>]"
      ]
     },
     "execution_count": 10,
     "metadata": {},
     "output_type": "execute_result"
    },
    {
     "data": {
      "image/png": "[encoded data removed]",
      "text/plain": [
       "<matplotlib.figure.Figure at 0x7fb8ac9a7b70>"
      ]
     },
     "metadata": {},
     "output_type": "display_data"
    }
   ],
   "source": [
    "plt.plot(list(range(3, 11)), tree_grid_classif.cv_results_['mean_test_score'][:8], 'r')\n",
    "plt.plot(list(range(3, 11)), tree_grid_classif.cv_results_['mean_test_score'][8:], 'b')"
   ]
  },
  {
   "cell_type": "code",
   "execution_count": 19,
   "metadata": {},
   "outputs": [
    {
     "name": "stderr",
     "output_type": "stream",
     "text": [
      "/usr/local/lib/python3.6/dist-packages/sklearn/utils/deprecation.py:122: FutureWarning: You are accessing a training score ('mean_train_score'), which will not be available by default any more in 0.21. If you need training scores, please set return_train_score=True\n",
      "  warnings.warn(*warn_args, **warn_kwargs)\n",
      "/usr/local/lib/python3.6/dist-packages/sklearn/utils/deprecation.py:122: FutureWarning: You are accessing a training score ('split0_train_score'), which will not be available by default any more in 0.21. If you need training scores, please set return_train_score=True\n",
      "  warnings.warn(*warn_args, **warn_kwargs)\n",
      "/usr/local/lib/python3.6/dist-packages/sklearn/utils/deprecation.py:122: FutureWarning: You are accessing a training score ('split1_train_score'), which will not be available by default any more in 0.21. If you need training scores, please set return_train_score=True\n",
      "  warnings.warn(*warn_args, **warn_kwargs)\n",
      "/usr/local/lib/python3.6/dist-packages/sklearn/utils/deprecation.py:122: FutureWarning: You are accessing a training score ('split2_train_score'), which will not be available by default any more in 0.21. If you need training scores, please set return_train_score=True\n",
      "  warnings.warn(*warn_args, **warn_kwargs)\n",
      "/usr/local/lib/python3.6/dist-packages/sklearn/utils/deprecation.py:122: FutureWarning: You are accessing a training score ('split3_train_score'), which will not be available by default any more in 0.21. If you need training scores, please set return_train_score=True\n",
      "  warnings.warn(*warn_args, **warn_kwargs)\n",
      "/usr/local/lib/python3.6/dist-packages/sklearn/utils/deprecation.py:122: FutureWarning: You are accessing a training score ('split4_train_score'), which will not be available by default any more in 0.21. If you need training scores, please set return_train_score=True\n",
      "  warnings.warn(*warn_args, **warn_kwargs)\n",
      "/usr/local/lib/python3.6/dist-packages/sklearn/utils/deprecation.py:122: FutureWarning: You are accessing a training score ('std_train_score'), which will not be available by default any more in 0.21. If you need training scores, please set return_train_score=True\n",
      "  warnings.warn(*warn_args, **warn_kwargs)\n"
     ]
    },
    {
     "data": {
      "text/html": [
       "<div>\n",
       "<style scoped>\n",
       "    .dataframe tbody tr th:only-of-type {\n",
       "        vertical-align: middle;\n",
       "    }\n",
       "\n",
       "    .dataframe tbody tr th {\n",
       "        vertical-align: top;\n",
       "    }\n",
       "\n",
       "    .dataframe thead th {\n",
       "        text-align: right;\n",
       "    }\n",
       "</style>\n",
       "<table border=\"1\" class=\"dataframe\">\n",
       "  <thead>\n",
       "    <tr style=\"text-align: right;\">\n",
       "      <th></th>\n",
       "      <th>mean_fit_time</th>\n",
       "      <th>mean_score_time</th>\n",
       "      <th>mean_test_score</th>\n",
       "      <th>mean_train_score</th>\n",
       "      <th>param_criterion</th>\n",
       "      <th>param_max_depth</th>\n",
       "      <th>params</th>\n",
       "      <th>rank_test_score</th>\n",
       "      <th>split0_test_score</th>\n",
       "      <th>split0_train_score</th>\n",
       "      <th>...</th>\n",
       "      <th>split2_test_score</th>\n",
       "      <th>split2_train_score</th>\n",
       "      <th>split3_test_score</th>\n",
       "      <th>split3_train_score</th>\n",
       "      <th>split4_test_score</th>\n",
       "      <th>split4_train_score</th>\n",
       "      <th>std_fit_time</th>\n",
       "      <th>std_score_time</th>\n",
       "      <th>std_test_score</th>\n",
       "      <th>std_train_score</th>\n",
       "    </tr>\n",
       "  </thead>\n",
       "  <tbody>\n",
       "    <tr>\n",
       "      <th>0</th>\n",
       "      <td>1.315351</td>\n",
       "      <td>0.002372</td>\n",
       "      <td>0.477383</td>\n",
       "      <td>0.486081</td>\n",
       "      <td>gini</td>\n",
       "      <td>3</td>\n",
       "      <td>{'criterion': 'gini', 'max_depth': 3}</td>\n",
       "      <td>15</td>\n",
       "      <td>0.420139</td>\n",
       "      <td>0.472585</td>\n",
       "      <td>...</td>\n",
       "      <td>0.480836</td>\n",
       "      <td>0.473913</td>\n",
       "      <td>0.522648</td>\n",
       "      <td>0.488696</td>\n",
       "      <td>0.470383</td>\n",
       "      <td>0.503478</td>\n",
       "      <td>0.055529</td>\n",
       "      <td>0.000065</td>\n",
       "      <td>0.033576</td>\n",
       "      <td>0.011590</td>\n",
       "    </tr>\n",
       "    <tr>\n",
       "      <th>1</th>\n",
       "      <td>1.928513</td>\n",
       "      <td>0.002596</td>\n",
       "      <td>0.599165</td>\n",
       "      <td>0.630655</td>\n",
       "      <td>gini</td>\n",
       "      <td>4</td>\n",
       "      <td>{'criterion': 'gini', 'max_depth': 4}</td>\n",
       "      <td>13</td>\n",
       "      <td>0.513889</td>\n",
       "      <td>0.595300</td>\n",
       "      <td>...</td>\n",
       "      <td>0.585366</td>\n",
       "      <td>0.612174</td>\n",
       "      <td>0.634146</td>\n",
       "      <td>0.594783</td>\n",
       "      <td>0.655052</td>\n",
       "      <td>0.677391</td>\n",
       "      <td>0.066578</td>\n",
       "      <td>0.000086</td>\n",
       "      <td>0.048765</td>\n",
       "      <td>0.037174</td>\n",
       "    </tr>\n",
       "    <tr>\n",
       "      <th>2</th>\n",
       "      <td>2.733236</td>\n",
       "      <td>0.002889</td>\n",
       "      <td>0.674322</td>\n",
       "      <td>0.721984</td>\n",
       "      <td>gini</td>\n",
       "      <td>5</td>\n",
       "      <td>{'criterion': 'gini', 'max_depth': 5}</td>\n",
       "      <td>11</td>\n",
       "      <td>0.621528</td>\n",
       "      <td>0.695387</td>\n",
       "      <td>...</td>\n",
       "      <td>0.637631</td>\n",
       "      <td>0.693913</td>\n",
       "      <td>0.756098</td>\n",
       "      <td>0.720870</td>\n",
       "      <td>0.738676</td>\n",
       "      <td>0.784348</td>\n",
       "      <td>0.104502</td>\n",
       "      <td>0.000135</td>\n",
       "      <td>0.060206</td>\n",
       "      <td>0.032952</td>\n",
       "    </tr>\n",
       "    <tr>\n",
       "      <th>3</th>\n",
       "      <td>3.579831</td>\n",
       "      <td>0.003228</td>\n",
       "      <td>0.743215</td>\n",
       "      <td>0.812979</td>\n",
       "      <td>gini</td>\n",
       "      <td>6</td>\n",
       "      <td>{'criterion': 'gini', 'max_depth': 6}</td>\n",
       "      <td>9</td>\n",
       "      <td>0.708333</td>\n",
       "      <td>0.823325</td>\n",
       "      <td>...</td>\n",
       "      <td>0.696864</td>\n",
       "      <td>0.752174</td>\n",
       "      <td>0.773519</td>\n",
       "      <td>0.809565</td>\n",
       "      <td>0.818815</td>\n",
       "      <td>0.871304</td>\n",
       "      <td>0.158370</td>\n",
       "      <td>0.000086</td>\n",
       "      <td>0.046020</td>\n",
       "      <td>0.038046</td>\n",
       "    </tr>\n",
       "    <tr>\n",
       "      <th>4</th>\n",
       "      <td>4.372694</td>\n",
       "      <td>0.003409</td>\n",
       "      <td>0.781489</td>\n",
       "      <td>0.879263</td>\n",
       "      <td>gini</td>\n",
       "      <td>7</td>\n",
       "      <td>{'criterion': 'gini', 'max_depth': 7}</td>\n",
       "      <td>7</td>\n",
       "      <td>0.739583</td>\n",
       "      <td>0.872063</td>\n",
       "      <td>...</td>\n",
       "      <td>0.773519</td>\n",
       "      <td>0.831304</td>\n",
       "      <td>0.801394</td>\n",
       "      <td>0.886087</td>\n",
       "      <td>0.822300</td>\n",
       "      <td>0.918261</td>\n",
       "      <td>0.229775</td>\n",
       "      <td>0.000092</td>\n",
       "      <td>0.028269</td>\n",
       "      <td>0.028307</td>\n",
       "    </tr>\n",
       "  </tbody>\n",
       "</table>\n",
       "<p>5 rows × 22 columns</p>\n",
       "</div>"
      ],
      "text/plain": [
       "   mean_fit_time  mean_score_time  mean_test_score  mean_train_score  \\\n",
       "0       1.315351         0.002372         0.477383          0.486081   \n",
       "1       1.928513         0.002596         0.599165          0.630655   \n",
       "2       2.733236         0.002889         0.674322          0.721984   \n",
       "3       3.579831         0.003228         0.743215          0.812979   \n",
       "4       4.372694         0.003409         0.781489          0.879263   \n",
       "\n",
       "  param_criterion param_max_depth                                 params  \\\n",
       "0            gini               3  {'criterion': 'gini', 'max_depth': 3}   \n",
       "1            gini               4  {'criterion': 'gini', 'max_depth': 4}   \n",
       "2            gini               5  {'criterion': 'gini', 'max_depth': 5}   \n",
       "3            gini               6  {'criterion': 'gini', 'max_depth': 6}   \n",
       "4            gini               7  {'criterion': 'gini', 'max_depth': 7}   \n",
       "\n",
       "   rank_test_score  split0_test_score  split0_train_score       ...         \\\n",
       "0               15           0.420139            0.472585       ...          \n",
       "1               13           0.513889            0.595300       ...          \n",
       "2               11           0.621528            0.695387       ...          \n",
       "3                9           0.708333            0.823325       ...          \n",
       "4                7           0.739583            0.872063       ...          \n",
       "\n",
       "   split2_test_score  split2_train_score  split3_test_score  \\\n",
       "0           0.480836            0.473913           0.522648   \n",
       "1           0.585366            0.612174           0.634146   \n",
       "2           0.637631            0.693913           0.756098   \n",
       "3           0.696864            0.752174           0.773519   \n",
       "4           0.773519            0.831304           0.801394   \n",
       "\n",
       "   split3_train_score  split4_test_score  split4_train_score  std_fit_time  \\\n",
       "0            0.488696           0.470383            0.503478      0.055529   \n",
       "1            0.594783           0.655052            0.677391      0.066578   \n",
       "2            0.720870           0.738676            0.784348      0.104502   \n",
       "3            0.809565           0.818815            0.871304      0.158370   \n",
       "4            0.886087           0.822300            0.918261      0.229775   \n",
       "\n",
       "   std_score_time  std_test_score  std_train_score  \n",
       "0        0.000065        0.033576         0.011590  \n",
       "1        0.000086        0.048765         0.037174  \n",
       "2        0.000135        0.060206         0.032952  \n",
       "3        0.000086        0.046020         0.038046  \n",
       "4        0.000092        0.028269         0.028307  \n",
       "\n",
       "[5 rows x 22 columns]"
      ]
     },
     "execution_count": 19,
     "metadata": {},
     "output_type": "execute_result"
    }
   ],
   "source": [
    "import pandas as pd\n",
    "df = pd.DataFrame(tree_grid_classif.cv_results_)\n",
    "df.head()"
   ]
  },
  {
   "cell_type": "markdown",
   "metadata": {},
   "source": [
    "**Выберите верные утверждения:**\n",
    "1. Оптимальное значение max_depth для каждого критерия достигается внутри отрезка [3, 10] (то есть на отрезке [4, 9]).\n",
    "2. **На отрезке [3, 10] построенные графики не пересекаются.**\n",
    "3. На отрезке [3, 10] построенные графики пересекаются ровно один раз.\n",
    "4. Наилучшее качество при max_depth на интервале [3, 10] достигается на критерии gini.\n",
    "5. **Хотя бы для одного из критериев значение accuracy строго возрастает с ростом значения max_depth на интервале [3, 10].**"
   ]
  },
  {
   "cell_type": "markdown",
   "metadata": {},
   "source": [
    "**Чему равны найденные оптимальные значения параметров max_depth и criterion?**\n",
    "1. max_depth = 4, criterion = 'gini';\n",
    "2. max_depth = 7, criterion = 'entropy';\n",
    "3. **max_depth = 10, criterion = 'entropy'**;\n",
    "4. max_depth = 10, criterion = 'gini';\n",
    "5. max_depth = 3, criterion = 'entropy';\n",
    "6. max_depth = 9, criterion = 'gini';"
   ]
  },
  {
   "cell_type": "markdown",
   "metadata": {},
   "source": [
    "Используя найденные оптимальные значения max_depth и criterion, обучите решающее дерево на X_train, y_train и вычислите вероятности принадлежности к классам для X_test."
   ]
  },
  {
   "cell_type": "code",
   "execution_count": 7,
   "metadata": {},
   "outputs": [
    {
     "data": {
      "text/plain": [
       "0.12185000000000004"
      ]
     },
     "execution_count": 7,
     "metadata": {},
     "output_type": "execute_result"
    }
   ],
   "source": [
    "# Ваш код здесь\n",
    "proba = tree_grid_entropy.best_estimator_.predict_proba(X_test)\n",
    "max(proba.mean(axis=0))"
   ]
  },
  {
   "cell_type": "markdown",
   "metadata": {},
   "source": [
    "Для полученной матрицы вычислите усредненные по всем объектам из `X_test` значения вероятностей принадлежности к классам."
   ]
  },
  {
   "cell_type": "markdown",
   "metadata": {},
   "source": [
    "**Вопрос:** Чему равна максимальная вероятность в полученном векторе?\n",
    "1. 0.11218791\n",
    "2. **0.11783761**\n",
    "3. 1.0\n",
    "4. 0.0875"
   ]
  },
  {
   "cell_type": "markdown",
   "metadata": {},
   "source": [
    "### Регрессия"
   ]
  },
  {
   "cell_type": "markdown",
   "metadata": {},
   "source": [
    "С помощью метода `load_boston` загрузите датасет `boston`. Разделите выборку на обучающую и тестовую с помощью метода `train_test_split`, используйте значения параметров `test_size=0.2`, `random_state=17`. Попробуйте обучить неглубокие регрессионные деревья и убедитесь, что критерии `variance` и `mad_median` дают разные результаты."
   ]
  },
  {
   "cell_type": "code",
   "execution_count": 8,
   "metadata": {},
   "outputs": [],
   "source": [
    "# Ваш код здесь\n",
    "X, y = load_boston(return_X_y=True)\n",
    "X_train, X_test, y_train, y_test = train_test_split(X, y, test_size=0.2, random_state=17)"
   ]
  },
  {
   "cell_type": "code",
   "execution_count": 9,
   "metadata": {},
   "outputs": [
    {
     "name": "stdout",
     "output_type": "stream",
     "text": [
      "13.277918977\n",
      "CPU times: user 4.7 s, sys: 3.99 ms, total: 4.7 s\n",
      "Wall time: 4.7 s\n"
     ]
    }
   ],
   "source": [
    "%%time\n",
    "pred = DecisionTree(criterion='mad_median', max_depth=10).fit(X_train, y_train).predict(X_test)\n",
    "print(mean_squared_error(y_test, pred))"
   ]
  },
  {
   "cell_type": "markdown",
   "metadata": {},
   "source": [
    "С помощью 5-кратной кросс-валидации подберите оптимальное значение параметров `max_depth` и `criterion`. Для параметра `max_depth` используйте диапазон значений - `range(2, 9)`, а для `criterion` - {'variance', 'mad_median'}. Критерий качества `scoring`='neg_mean_squared_error'."
   ]
  },
  {
   "cell_type": "code",
   "execution_count": 10,
   "metadata": {},
   "outputs": [
    {
     "name": "stdout",
     "output_type": "stream",
     "text": [
      "CPU times: user 1min 54s, sys: 20 ms, total: 1min 54s\n",
      "Wall time: 1min 54s\n"
     ]
    }
   ],
   "source": [
    "%%time\n",
    "tree_grid_var = GridSearchCV(DecisionTree(criterion='variance'), \n",
    "                             cv=5, \n",
    "                             param_grid={'max_depth': list(range(2, 9))}, \n",
    "                             scoring='neg_mean_squared_error').fit(X_train, y_train)\n",
    "\n",
    "tree_grid_mad = GridSearchCV(DecisionTree(criterion='mad_median'), \n",
    "                             cv=5, \n",
    "                             param_grid={'max_depth': list(range(2, 9))}, \n",
    "                             scoring='neg_mean_squared_error').fit(X_train, y_train)"
   ]
  },
  {
   "cell_type": "code",
   "execution_count": 11,
   "metadata": {},
   "outputs": [
    {
     "data": {
      "text/plain": [
       "13.790847242479822"
      ]
     },
     "execution_count": 11,
     "metadata": {},
     "output_type": "execute_result"
    }
   ],
   "source": [
    "mean_squared_error(tree_grid_var.predict(X_test), y_test)"
   ]
  },
  {
   "cell_type": "markdown",
   "metadata": {},
   "source": [
    "Постройте графики средних значений критерия качества `neg_mean_squared_error` для критериев `variance` и `mad_median` в зависимости от `max_depth`."
   ]
  },
  {
   "cell_type": "code",
   "execution_count": 12,
   "metadata": {},
   "outputs": [
    {
     "data": {
      "text/plain": [
       "[<matplotlib.lines.Line2D at 0x7fe7d5a2d978>]"
      ]
     },
     "execution_count": 12,
     "metadata": {},
     "output_type": "execute_result"
    },
    {
     "data": {
      "image/png": "[encoded data removed]",
      "text/plain": [
       "<matplotlib.figure.Figure at 0x7fe7d5a2d908>"
      ]
     },
     "metadata": {},
     "output_type": "display_data"
    }
   ],
   "source": [
    "# Ваш код здесь\n",
    "plt.plot(list(range(2, 9)), -1*tree_grid_var.cv_results_['mean_test_score'], 'r')\n",
    "plt.plot(list(range(2, 9)), -1*tree_grid_mad.cv_results_['mean_test_score'], 'b')"
   ]
  },
  {
   "cell_type": "markdown",
   "metadata": {},
   "source": [
    "**Выберите верные утверждения:**\n",
    "1. **На отрезке [2, 8] построенные графики не пересекаются.**\n",
    "2. На отрезке [2, 8] построенные графики пересекаются ровно один раз.\n",
    "3. **Оптимальное значение max_depth для каждого из критериев достигается на границе отрезка [2, 8].**\n",
    "4. **Наилучшее качество при max_depth in range(2, 9) достигается на критерии variance.**\n",
    "5. График качества ровно для одного из критериев имеет явно выраженный пик."
   ]
  },
  {
   "cell_type": "markdown",
   "metadata": {},
   "source": [
    "**Чему равны найденные оптимальные значения параметров `max_depth` и `criterion`?**\n",
    "1. max_depth = 9, criterion = 'variance';\n",
    "2. max_depth = 5, criterion = 'mad_median';\n",
    "3. **max_depth = 4, criterion = 'variance';**\n",
    "4. max_depth = 2, criterion = 'mad_median';\n",
    "5. max_depth = 4, criterion = 'mad_median';\n",
    "6. max_depth = 8, criterion = 'variance';"
   ]
  },
  {
   "cell_type": "code",
   "execution_count": null,
   "metadata": {},
   "outputs": [],
   "source": []
  }
 ],
 "metadata": {
  "kernelspec": {
   "display_name": "Python 3",
   "language": "python",
   "name": "python3"
  },
  "language_info": {
   "codemirror_mode": {
    "name": "ipython",
    "version": 3
   },
   "file_extension": ".py",
   "mimetype": "text/x-python",
   "name": "python",
   "nbconvert_exporter": "python",
   "pygments_lexer": "ipython3",
   "version": "3.6.3"
  },
  "name": "lesson4_part2_Decision_trees.ipynb"
 },
 "nbformat": 4,
 "nbformat_minor": 1
}
